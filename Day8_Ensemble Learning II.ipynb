{
 "cells": [
  {
   "cell_type": "markdown",
   "metadata": {},
   "source": [
    "## Ensemble Learning II\n",
    "Advanced Ensemble Learning\n",
    "Base learner가 맨처음 prediction set를 생성. 생성된 예측 세트로 만들 수 있는 예측 조합 모델을 Meta Learner라고 함.\n",
    "\n",
    "Bagging\n",
    "모든 Base learner는 다른 학습자와 독립적으로 학습을 진행하고 예측을 함.\n",
    "전체 데이터를 bootstrapping\t기법을 사용하여 여러개의 하위 집합으로 나누고 이를 각각의 학습자가 학습을 진행 및 예측. 모든 Base Learner의 예측을 평균내어 Final Prediction을 얻음\n",
    "\n",
    "Boosting\n",
    "bagging은 같은 데이터를 여러개로 나누어 병렬적으로 학습을 진행하는 반면, boosting은 순차적으로 여러 학습 모델을 적용시켜 이전의 학습 모델의 오류를 수정해나감. 모델이 학습되면 전체 데이터에 대한 예측을 생성하고 잘못된 예측에 더 큰 가중치를 부여하여 다시 학습을 진행하는것을 반복함.\n",
    "\n",
    "Random Forest\n",
    "Bagging 의 대표적인 알고리즘. 모든 예측의 평균을 내어 Overfitting으로부터 자유롭고, Regression, Classification 모두에 이용가능하지만, 블랙 박스 모델이기 때문에 내부 내용의 설명이 어려움\n",
    "\n",
    "Stacking\n",
    "bagging과 같이 데이터를 나누어 병렬적으로 학습을 진행시켜 여러 예측 값을 생성. 생성된 예측값들을 입력으로 가지고 실제 데이터를 예측하는 모델을 만들고 학습을 진행."
   ]
  },
  {
   "cell_type": "code",
   "execution_count": null,
   "metadata": {},
   "outputs": [],
   "source": []
  }
 ],
 "metadata": {
  "kernelspec": {
   "display_name": "Python 3",
   "language": "python",
   "name": "python3"
  },
  "language_info": {
   "codemirror_mode": {
    "name": "ipython",
    "version": 3
   },
   "file_extension": ".py",
   "mimetype": "text/x-python",
   "name": "python",
   "nbconvert_exporter": "python",
   "pygments_lexer": "ipython3",
   "version": "3.8.5"
  }
 },
 "nbformat": 4,
 "nbformat_minor": 4
}
