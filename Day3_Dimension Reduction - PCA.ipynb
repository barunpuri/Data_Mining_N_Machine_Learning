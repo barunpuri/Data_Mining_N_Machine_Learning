{
 "cells": [
  {
   "cell_type": "markdown",
   "metadata": {},
   "source": [
    "## Dimension Reduction - PCA \n",
    "우선 차원은 데이터가 가지고 있는 기능 또는 변수의 수를 의미한다. 실제 데이터는 유사한 데이터가 많이 존재하고 노이즈가 포함되어 있는 경우가 많다. 따라서 차원 축소를 통해 불필요한 노이즈를 제거하고 데이터 처리 속도와 성능 향상을 이룬다. 차원 축소는 데이터 시각화, 노이즈 제거, 메모리 절약, 성능 향상에 기여한다. \n",
    "\n",
    "대표적인 차원 축소 알고리즘으로 PCA를 사용한다. PCA는 여러 변수들 사이의 분산, 공분산 관계를 이용하여 데이터의 손실을 최소화 하면서 데이터를 가장 잘 설명하는 변수의 선형 조합을 찾아낸다. \n",
    "PCA는 데이터를 나열하고, 나열된 데이터의 중심을 원점으로 이동, 데이터를 가장 잘 표현하는 직선들을 찾고, 데이터를 투영시키는 과정을 진행한다.\n",
    "#### iris data 확인"
   ]
  },
  {
   "cell_type": "code",
   "execution_count": 142,
   "metadata": {},
   "outputs": [],
   "source": [
    "import pandas as pd\n",
    "import numpy as np\n",
    "import matplotlib.pyplot as plt"
   ]
  },
  {
   "cell_type": "code",
   "execution_count": 143,
   "metadata": {},
   "outputs": [
    {
     "data": {
      "text/html": [
       "<div>\n",
       "<style scoped>\n",
       "    .dataframe tbody tr th:only-of-type {\n",
       "        vertical-align: middle;\n",
       "    }\n",
       "\n",
       "    .dataframe tbody tr th {\n",
       "        vertical-align: top;\n",
       "    }\n",
       "\n",
       "    .dataframe thead th {\n",
       "        text-align: right;\n",
       "    }\n",
       "</style>\n",
       "<table border=\"1\" class=\"dataframe\">\n",
       "  <thead>\n",
       "    <tr style=\"text-align: right;\">\n",
       "      <th></th>\n",
       "      <th>Sepal Length</th>\n",
       "      <th>Sepal Width</th>\n",
       "      <th>Petal Length</th>\n",
       "      <th>Petal Width</th>\n",
       "      <th>Specis</th>\n",
       "    </tr>\n",
       "  </thead>\n",
       "  <tbody>\n",
       "    <tr>\n",
       "      <th>0</th>\n",
       "      <td>5.1</td>\n",
       "      <td>3.5</td>\n",
       "      <td>1.4</td>\n",
       "      <td>0.2</td>\n",
       "      <td>Iris-setosa</td>\n",
       "    </tr>\n",
       "    <tr>\n",
       "      <th>1</th>\n",
       "      <td>4.9</td>\n",
       "      <td>3.0</td>\n",
       "      <td>1.4</td>\n",
       "      <td>0.2</td>\n",
       "      <td>Iris-setosa</td>\n",
       "    </tr>\n",
       "    <tr>\n",
       "      <th>2</th>\n",
       "      <td>4.7</td>\n",
       "      <td>3.2</td>\n",
       "      <td>1.3</td>\n",
       "      <td>0.2</td>\n",
       "      <td>Iris-setosa</td>\n",
       "    </tr>\n",
       "    <tr>\n",
       "      <th>3</th>\n",
       "      <td>4.6</td>\n",
       "      <td>3.1</td>\n",
       "      <td>1.5</td>\n",
       "      <td>0.2</td>\n",
       "      <td>Iris-setosa</td>\n",
       "    </tr>\n",
       "    <tr>\n",
       "      <th>4</th>\n",
       "      <td>5.0</td>\n",
       "      <td>3.6</td>\n",
       "      <td>1.4</td>\n",
       "      <td>0.2</td>\n",
       "      <td>Iris-setosa</td>\n",
       "    </tr>\n",
       "  </tbody>\n",
       "</table>\n",
       "</div>"
      ],
      "text/plain": [
       "   Sepal Length  Sepal Width  Petal Length  Petal Width       Specis\n",
       "0           5.1          3.5           1.4          0.2  Iris-setosa\n",
       "1           4.9          3.0           1.4          0.2  Iris-setosa\n",
       "2           4.7          3.2           1.3          0.2  Iris-setosa\n",
       "3           4.6          3.1           1.5          0.2  Iris-setosa\n",
       "4           5.0          3.6           1.4          0.2  Iris-setosa"
      ]
     },
     "execution_count": 143,
     "metadata": {},
     "output_type": "execute_result"
    }
   ],
   "source": [
    "df = pd.read_csv('data/iris_sample_data.csv', header=None, names=['Sepal Length', 'Sepal Width', 'Petal Length', 'Petal Width', \"Specis\"])\n",
    "df.head()"
   ]
  },
  {
   "cell_type": "code",
   "execution_count": 144,
   "metadata": {},
   "outputs": [
    {
     "data": {
      "text/html": [
       "<div>\n",
       "<style scoped>\n",
       "    .dataframe tbody tr th:only-of-type {\n",
       "        vertical-align: middle;\n",
       "    }\n",
       "\n",
       "    .dataframe tbody tr th {\n",
       "        vertical-align: top;\n",
       "    }\n",
       "\n",
       "    .dataframe thead th {\n",
       "        text-align: right;\n",
       "    }\n",
       "</style>\n",
       "<table border=\"1\" class=\"dataframe\">\n",
       "  <thead>\n",
       "    <tr style=\"text-align: right;\">\n",
       "      <th></th>\n",
       "      <th>Sepal Length</th>\n",
       "      <th>Sepal Width</th>\n",
       "    </tr>\n",
       "  </thead>\n",
       "  <tbody>\n",
       "    <tr>\n",
       "      <th>0</th>\n",
       "      <td>5.1</td>\n",
       "      <td>3.5</td>\n",
       "    </tr>\n",
       "    <tr>\n",
       "      <th>1</th>\n",
       "      <td>4.9</td>\n",
       "      <td>3.0</td>\n",
       "    </tr>\n",
       "    <tr>\n",
       "      <th>2</th>\n",
       "      <td>4.7</td>\n",
       "      <td>3.2</td>\n",
       "    </tr>\n",
       "    <tr>\n",
       "      <th>3</th>\n",
       "      <td>4.6</td>\n",
       "      <td>3.1</td>\n",
       "    </tr>\n",
       "    <tr>\n",
       "      <th>4</th>\n",
       "      <td>5.0</td>\n",
       "      <td>3.6</td>\n",
       "    </tr>\n",
       "  </tbody>\n",
       "</table>\n",
       "</div>"
      ],
      "text/plain": [
       "   Sepal Length  Sepal Width\n",
       "0           5.1          3.5\n",
       "1           4.9          3.0\n",
       "2           4.7          3.2\n",
       "3           4.6          3.1\n",
       "4           5.0          3.6"
      ]
     },
     "execution_count": 144,
     "metadata": {},
     "output_type": "execute_result"
    }
   ],
   "source": [
    "df = df[['Sepal Length', 'Sepal Width']]\n",
    "df.head()"
   ]
  },
  {
   "cell_type": "code",
   "execution_count": 145,
   "metadata": {},
   "outputs": [
    {
     "data": {
      "text/plain": [
       "Text(0.5, 1.0, 'Sepal Length versus Width')"
      ]
     },
     "execution_count": 145,
     "metadata": {},
     "output_type": "execute_result"
    },
    {
     "data": {
      "image/png": "[encoded data removed]",
      "text/plain": [
       "<Figure size 720x504 with 1 Axes>"
      ]
     },
     "metadata": {
      "needs_background": "light"
     },
     "output_type": "display_data"
    }
   ],
   "source": [
    "plt.figure(figsize=(10, 7))\n",
    "plt.scatter(df['Sepal Length'], df['Sepal Width'])\n",
    "plt.xlabel('Sepal Length (mm)')\n",
    "plt.ylabel('Sepal Width (mm)')\n",
    "plt.title('Sepal Length versus Width')"
   ]
  },
  {
   "cell_type": "markdown",
   "metadata": {},
   "source": [
    "pandas "
   ]
  },
  {
   "cell_type": "code",
   "execution_count": 146,
   "metadata": {},
   "outputs": [
    {
     "data": {
      "text/plain": [
       "Sepal Length    5.843333\n",
       "Sepal Width     3.054000\n",
       "dtype: float64"
      ]
     },
     "execution_count": 146,
     "metadata": {},
     "output_type": "execute_result"
    }
   ],
   "source": [
    "df.mean()"
   ]
  },
  {
   "cell_type": "code",
   "execution_count": 147,
   "metadata": {},
   "outputs": [
    {
     "data": {
      "text/plain": [
       "Sepal Length    0.828066\n",
       "Sepal Width     0.433594\n",
       "dtype: float64"
      ]
     },
     "execution_count": 147,
     "metadata": {},
     "output_type": "execute_result"
    }
   ],
   "source": [
    "df.std()"
   ]
  },
  {
   "cell_type": "code",
   "execution_count": 148,
   "metadata": {},
   "outputs": [
    {
     "data": {
      "text/plain": [
       "Sepal Length    0.685694\n",
       "Sepal Width     0.188004\n",
       "dtype: float64"
      ]
     },
     "execution_count": 148,
     "metadata": {},
     "output_type": "execute_result"
    }
   ],
   "source": [
    "df.var()"
   ]
  },
  {
   "cell_type": "code",
   "execution_count": 149,
   "metadata": {},
   "outputs": [
    {
     "data": {
      "text/html": [
       "<div>\n",
       "<style scoped>\n",
       "    .dataframe tbody tr th:only-of-type {\n",
       "        vertical-align: middle;\n",
       "    }\n",
       "\n",
       "    .dataframe tbody tr th {\n",
       "        vertical-align: top;\n",
       "    }\n",
       "\n",
       "    .dataframe thead th {\n",
       "        text-align: right;\n",
       "    }\n",
       "</style>\n",
       "<table border=\"1\" class=\"dataframe\">\n",
       "  <thead>\n",
       "    <tr style=\"text-align: right;\">\n",
       "      <th></th>\n",
       "      <th>Sepal Length</th>\n",
       "      <th>Sepal Width</th>\n",
       "    </tr>\n",
       "  </thead>\n",
       "  <tbody>\n",
       "    <tr>\n",
       "      <th>Sepal Length</th>\n",
       "      <td>0.685694</td>\n",
       "      <td>-0.039268</td>\n",
       "    </tr>\n",
       "    <tr>\n",
       "      <th>Sepal Width</th>\n",
       "      <td>-0.039268</td>\n",
       "      <td>0.188004</td>\n",
       "    </tr>\n",
       "  </tbody>\n",
       "</table>\n",
       "</div>"
      ],
      "text/plain": [
       "              Sepal Length  Sepal Width\n",
       "Sepal Length      0.685694    -0.039268\n",
       "Sepal Width      -0.039268     0.188004"
      ]
     },
     "execution_count": 149,
     "metadata": {},
     "output_type": "execute_result"
    }
   ],
   "source": [
    "df.cov()"
   ]
  },
  {
   "cell_type": "markdown",
   "metadata": {},
   "source": [
    "numpy"
   ]
  },
  {
   "cell_type": "code",
   "execution_count": 150,
   "metadata": {},
   "outputs": [
    {
     "data": {
      "text/plain": [
       "array([5.84333333, 3.054     ])"
      ]
     },
     "execution_count": 150,
     "metadata": {},
     "output_type": "execute_result"
    }
   ],
   "source": [
    "np.mean(df.values, axis=0)"
   ]
  },
  {
   "cell_type": "code",
   "execution_count": 151,
   "metadata": {},
   "outputs": [
    {
     "data": {
      "text/plain": [
       "array([0.82530129, 0.43214658])"
      ]
     },
     "execution_count": 151,
     "metadata": {},
     "output_type": "execute_result"
    }
   ],
   "source": [
    "np.std(df.values, axis=0)"
   ]
  },
  {
   "cell_type": "code",
   "execution_count": 152,
   "metadata": {},
   "outputs": [
    {
     "data": {
      "text/plain": [
       "array([0.68112222, 0.18675067])"
      ]
     },
     "execution_count": 152,
     "metadata": {},
     "output_type": "execute_result"
    }
   ],
   "source": [
    "np.var(df.values, axis=0)"
   ]
  },
  {
   "cell_type": "code",
   "execution_count": 153,
   "metadata": {},
   "outputs": [
    {
     "data": {
      "text/plain": [
       "array([[ 0.68569351, -0.03926846],\n",
       "       [-0.03926846,  0.18800403]])"
      ]
     },
     "execution_count": 153,
     "metadata": {},
     "output_type": "execute_result"
    }
   ],
   "source": [
    "np.cov(df.values.T)"
   ]
  },
  {
   "cell_type": "markdown",
   "metadata": {},
   "source": [
    "#### Eigenvectors, Eigenvalues"
   ]
  },
  {
   "cell_type": "code",
   "execution_count": 154,
   "metadata": {},
   "outputs": [],
   "source": [
    "eigenvectors, eigenvalues, _ = np.linalg.svd(df.values, full_matrices=False)"
   ]
  },
  {
   "cell_type": "code",
   "execution_count": 155,
   "metadata": {},
   "outputs": [
    {
     "data": {
      "text/plain": [
       "array([81.25483015,  6.96796793])"
      ]
     },
     "execution_count": 155,
     "metadata": {},
     "output_type": "execute_result"
    }
   ],
   "source": [
    "eigenvalues"
   ]
  },
  {
   "cell_type": "code",
   "execution_count": 156,
   "metadata": {},
   "outputs": [
    {
     "data": {
      "text/plain": [
       "array([81.25483015, 88.22279808])"
      ]
     },
     "execution_count": 156,
     "metadata": {},
     "output_type": "execute_result"
    }
   ],
   "source": [
    "eigenvalues = np.cumsum(eigenvalues)\n",
    "eigenvalues"
   ]
  },
  {
   "cell_type": "code",
   "execution_count": 157,
   "metadata": {},
   "outputs": [
    {
     "data": {
      "text/plain": [
       "array([[-0.07553027, -0.11068158],\n",
       "       [-0.07052087, -0.06007995],\n",
       "       [-0.06946245, -0.09874988],\n",
       "       [-0.06780439, -0.09257869],\n",
       "       [-0.07500106, -0.13001654],\n",
       "       [-0.08106887, -0.14194824],\n",
       "       [-0.06949767, -0.13083793],\n",
       "       [-0.07387221, -0.10451038],\n",
       "       [-0.06448827, -0.0802363 ],\n",
       "       [-0.07108529, -0.07283303],\n",
       "       [-0.07994002, -0.11644208],\n",
       "       [-0.07168494, -0.11767416],\n",
       "       [-0.06942723, -0.06666184],\n",
       "       [-0.06395906, -0.09957127],\n",
       "       [-0.08600784, -0.12837377],\n",
       "       [-0.08717191, -0.18596798],\n",
       "       [-0.08106887, -0.14194824],\n",
       "       [-0.07553027, -0.11068158],\n",
       "       [-0.08378535, -0.1094495 ],\n",
       "       [-0.07722355, -0.14894082],\n",
       "       [-0.07824674, -0.07818284],\n",
       "       [-0.07665912, -0.13618774],\n",
       "       [-0.07062652, -0.15634409],\n",
       "       [-0.07440141, -0.08517542],\n",
       "       [-0.07168494, -0.11767416],\n",
       "       [-0.0716145 , -0.05349806],\n",
       "       [-0.07387221, -0.10451038],\n",
       "       [-0.0766239 , -0.10409969],\n",
       "       [-0.07605947, -0.09134661],\n",
       "       [-0.06946245, -0.09874988],\n",
       "       [-0.06999166, -0.07941492],\n",
       "       [-0.07824674, -0.07818284],\n",
       "       [-0.08001046, -0.18061817],\n",
       "       [-0.08385579, -0.17362559],\n",
       "       [-0.07108529, -0.07283303],\n",
       "       [-0.07274335, -0.07900422],\n",
       "       [-0.0799048 , -0.08435403],\n",
       "       [-0.07108529, -0.07283303],\n",
       "       [-0.0650527 , -0.09298938],\n",
       "       [-0.07496584, -0.0979285 ],\n",
       "       [-0.07443663, -0.11726346],\n",
       "       [-0.06219534,  0.00286406],\n",
       "       [-0.06618155, -0.11849554],\n",
       "       [-0.07443663, -0.11726346],\n",
       "       [-0.07722355, -0.14894082],\n",
       "       [-0.06942723, -0.06666184],\n",
       "       [-0.07722355, -0.14894082],\n",
       "       [-0.06836882, -0.10533177],\n",
       "       [-0.07884639, -0.12302396],\n",
       "       [-0.07330778, -0.0917573 ],\n",
       "       [-0.09461603,  0.05263351],\n",
       "       [-0.08805423,  0.01314219],\n",
       "       [-0.09295797,  0.05880471],\n",
       "       [-0.07313169,  0.06868293],\n",
       "       [-0.08689016,  0.0707364 ],\n",
       "       [-0.07814109,  0.01808131],\n",
       "       [-0.08752502, -0.00619277],\n",
       "       [-0.06713431,  0.01643853],\n",
       "       [-0.08854822,  0.06456521],\n",
       "       [-0.07210849, -0.00207505],\n",
       "       [-0.06597024,  0.07403274],\n",
       "       [-0.08145721,  0.00573892],\n",
       "       [-0.07803543,  0.11434545],\n",
       "       [-0.08308005,  0.03165577],\n",
       "       [-0.07761188, -0.00125366],\n",
       "       [-0.09077071,  0.04564093],\n",
       "       [-0.0781763 , -0.01400674],\n",
       "       [-0.07867029,  0.03741627],\n",
       "       [-0.0802227 ,  0.12750922],\n",
       "       [-0.07535417,  0.04975866],\n",
       "       [-0.08258606, -0.01976724],\n",
       "       [-0.08251562,  0.04440885],\n",
       "       [-0.08300961,  0.09583187],\n",
       "       [-0.08251562,  0.04440885],\n",
       "       [-0.08636095,  0.05140143],\n",
       "       [-0.08911265,  0.05181213],\n",
       "       [-0.09017106,  0.09048206],\n",
       "       [-0.09020628,  0.05839401],\n",
       "       [-0.08198641,  0.02507389],\n",
       "       [-0.07701223,  0.04358747],\n",
       "       [-0.07369611,  0.05592985],\n",
       "       [-0.07369611,  0.05592985],\n",
       "       [-0.07867029,  0.03741627],\n",
       "       [-0.08085756,  0.05058005],\n",
       "       [-0.07598904, -0.02717052],\n",
       "       [-0.08480855, -0.03869151],\n",
       "       [-0.09077071,  0.04564093],\n",
       "       [-0.08188076,  0.12133803],\n",
       "       [-0.0781763 , -0.01400674],\n",
       "       [-0.07426054,  0.04317677],\n",
       "       [-0.07482496,  0.03042369],\n",
       "       [-0.08364447,  0.01890269],\n",
       "       [-0.07810587,  0.05016935],\n",
       "       [-0.06766351,  0.0357735 ],\n",
       "       [-0.07648303,  0.0242525 ],\n",
       "       [-0.07926994, -0.00742485],\n",
       "       [-0.07870551,  0.00532823],\n",
       "       [-0.08417368,  0.03823766],\n",
       "       [-0.069886  ,  0.01684923],\n",
       "       [-0.07814109,  0.01808131],\n",
       "       [-0.08752502, -0.00619277],\n",
       "       [-0.07867029,  0.03741627],\n",
       "       [-0.09458082,  0.08472156],\n",
       "       [-0.08526732,  0.04481955],\n",
       "       [-0.08801901,  0.04523024],\n",
       "       [-0.10004899,  0.117631  ],\n",
       "       [-0.06769873,  0.00368545],\n",
       "       [-0.09620366,  0.11063842],\n",
       "       [-0.08738415,  0.12215942],\n",
       "       [-0.09906101,  0.01478497],\n",
       "       [-0.08914786,  0.01972408],\n",
       "       [-0.0852321 ,  0.07690759],\n",
       "       [-0.09129991,  0.0649759 ],\n",
       "       [-0.07644781,  0.05634055],\n",
       "       [-0.07923472,  0.02466319],\n",
       "       [-0.08805423,  0.01314219],\n",
       "       [-0.08801901,  0.04523024],\n",
       "       [-0.10565803,  0.02218824],\n",
       "       [-0.09888491,  0.1752252 ],\n",
       "       [-0.07803543,  0.11434545],\n",
       "       [-0.0935224 ,  0.04605163],\n",
       "       [-0.07704745,  0.01149942],\n",
       "       [-0.10001377,  0.14971904],\n",
       "       [-0.08413846,  0.07032571],\n",
       "       [-0.09189956,  0.02013477],\n",
       "       [-0.0968033 ,  0.06579729],\n",
       "       [-0.08360926,  0.05099074],\n",
       "       [-0.08364447,  0.01890269],\n",
       "       [-0.08579652,  0.06415451],\n",
       "       [-0.09567445,  0.09130345],\n",
       "       [-0.09673287,  0.12997338],\n",
       "       [-0.1078453 ,  0.03535202],\n",
       "       [-0.08579652,  0.06415451],\n",
       "       [-0.08470289,  0.05757263],\n",
       "       [-0.08138677,  0.06991501],\n",
       "       [-0.10114262,  0.12421288],\n",
       "       [-0.08808945, -0.01894585],\n",
       "       [-0.0874898 ,  0.02589527],\n",
       "       [-0.08255084,  0.01232081],\n",
       "       [-0.09295797,  0.05880471],\n",
       "       [-0.09077071,  0.04564093],\n",
       "       [-0.09295797,  0.05880471],\n",
       "       [-0.07867029,  0.03741627],\n",
       "       [-0.09242877,  0.03946974],\n",
       "       [-0.09189956,  0.02013477],\n",
       "       [-0.09020628,  0.05839401],\n",
       "       [-0.08300961,  0.09583187],\n",
       "       [-0.08801901,  0.04523024],\n",
       "       [-0.08699581, -0.02552774],\n",
       "       [-0.08145721,  0.00573892]])"
      ]
     },
     "execution_count": 157,
     "metadata": {},
     "output_type": "execute_result"
    }
   ],
   "source": [
    "eigenvectors"
   ]
  },
  {
   "cell_type": "code",
   "execution_count": 158,
   "metadata": {},
   "outputs": [
    {
     "data": {
      "text/plain": [
       "(150, 2)"
      ]
     },
     "execution_count": 158,
     "metadata": {},
     "output_type": "execute_result"
    }
   ],
   "source": [
    "eigenvectors.shape"
   ]
  },
  {
   "cell_type": "code",
   "execution_count": 168,
   "metadata": {},
   "outputs": [
    {
     "data": {
      "text/plain": [
       "array([0.07817635, 0.99693955])"
      ]
     },
     "execution_count": 168,
     "metadata": {},
     "output_type": "execute_result"
    }
   ],
   "source": [
    "P = eigenvectors[0]\n",
    "P"
   ]
  },
  {
   "cell_type": "markdown",
   "metadata": {},
   "source": [
    "#### PCA"
   ]
  },
  {
   "cell_type": "code",
   "execution_count": 169,
   "metadata": {},
   "outputs": [
    {
     "data": {
      "text/plain": [
       "array([[ 0.68569351, -0.03926846],\n",
       "       [-0.03926846,  0.18800403]])"
      ]
     },
     "execution_count": 169,
     "metadata": {},
     "output_type": "execute_result"
    }
   ],
   "source": [
    "data = np.cov(df.values.T)\n",
    "data"
   ]
  },
  {
   "cell_type": "code",
   "execution_count": 170,
   "metadata": {},
   "outputs": [],
   "source": [
    "eigenvectors, eigenvalues, _ = np.linalg.svd(data, full_matrices=False)"
   ]
  },
  {
   "cell_type": "code",
   "execution_count": 171,
   "metadata": {},
   "outputs": [
    {
     "data": {
      "text/plain": [
       "array([[-0.99693955,  0.07817635],\n",
       "       [ 0.07817635,  0.99693955]])"
      ]
     },
     "execution_count": 171,
     "metadata": {},
     "output_type": "execute_result"
    }
   ],
   "source": [
    "eigenvectors"
   ]
  },
  {
   "cell_type": "code",
   "execution_count": 172,
   "metadata": {},
   "outputs": [
    {
     "data": {
      "text/plain": [
       "array([0.6887728 , 0.18492474])"
      ]
     },
     "execution_count": 172,
     "metadata": {},
     "output_type": "execute_result"
    }
   ],
   "source": [
    "eigenvalues"
   ]
  },
  {
   "cell_type": "code",
   "execution_count": 173,
   "metadata": {},
   "outputs": [
    {
     "data": {
      "text/plain": [
       "array([0.78834238, 1.        ])"
      ]
     },
     "execution_count": 173,
     "metadata": {},
     "output_type": "execute_result"
    }
   ],
   "source": [
    "eigenvalues = np.cumsum(eigenvalues)\n",
    "eigenvalues /= eigenvalues.max()\n",
    "eigenvalues"
   ]
  },
  {
   "cell_type": "code",
   "execution_count": 180,
   "metadata": {},
   "outputs": [
    {
     "data": {
      "text/plain": [
       "array([-0.99693955,  0.07817635])"
      ]
     },
     "execution_count": 180,
     "metadata": {},
     "output_type": "execute_result"
    }
   ],
   "source": [
    "P = eigenvectors[0]\n",
    "P"
   ]
  },
  {
   "cell_type": "code",
   "execution_count": 181,
   "metadata": {},
   "outputs": [
    {
     "data": {
      "text/plain": [
       "array([-4.81077444, -4.65047471, -4.43545153, -4.34357521, -4.70326285,\n",
       "       -5.07858577, -4.32012231, -4.71889812, -4.15982257, -4.64265708,\n",
       "       -5.09422104, -4.51951021, -4.55078076, -4.05231098, -5.46954395,\n",
       "       -5.33857945, -5.07858577, -4.81077444, -5.38548526, -4.78732154,\n",
       "       -5.11767394, -4.79513917, -4.30448703, -4.82640971, -4.51951021,\n",
       "       -4.75016867, -4.71889812, -4.9104684 , -4.91828603, -4.43545153,\n",
       "       -4.54296312, -5.11767394, -4.86356259, -5.15482681, -4.64265708,\n",
       "       -4.73453339, -5.20955026, -4.64265708, -4.15200494, -4.81859208,\n",
       "       -4.71108049, -4.30642234, -4.13636967, -4.71108049, -4.78732154,\n",
       "       -4.55078076, -4.78732154, -4.33575758, -4.99452708, -4.72671576,\n",
       "       -6.72841249, -6.13024876, -6.63653617, -5.30336189, -6.26121325,\n",
       "       -5.46366162, -6.02273717, -4.69738052, -6.35308957, -4.97300948,\n",
       "       -4.82834502, -5.64741426, -5.80964929, -5.8546198 , -5.35615003,\n",
       "       -6.43714826, -5.34833239, -5.57117321, -6.0090372 , -5.38742057,\n",
       "       -5.63177899, -5.86243744, -6.08527825, -5.86243744, -6.15370166,\n",
       "       -6.34527194, -6.56029512, -6.44496589, -5.75492585, -5.47929689,\n",
       "       -5.29554425, -5.29554425, -5.57117321, -5.77056112, -5.14894448,\n",
       "       -5.71583767, -6.43714826, -6.10091352, -5.34833239, -5.28772662,\n",
       "       -5.27990898, -5.84680217, -5.57899084, -4.80489211, -5.3717853 ,\n",
       "       -5.44802635, -5.45584398, -5.95431376, -4.8889508 , -5.46366162,\n",
       "       -6.02273717, -5.57117321, -6.84374171, -6.05400771, -6.24557798,\n",
       "       -7.34221148, -4.68956289, -7.05094726, -6.48405407, -6.89652985,\n",
       "       -6.22994271, -6.16933694, -6.54465985, -5.48711452, -5.56335557,\n",
       "       -6.13024876, -6.24557798, -7.37936436, -7.47317598, -5.80964929,\n",
       "       -6.62871853, -5.36396766, -7.45754071, -6.06964298, -6.42151299,\n",
       "       -6.9278004 , -5.96213139, -5.84680217, -6.1615193 , -6.94343567,\n",
       "       -7.15845885, -7.57875226, -6.1615193 , -6.06182535, -5.87807271,\n",
       "       -7.44190544, -6.01491953, -6.13806639, -5.74710821, -6.63653617,\n",
       "       -6.43714826, -6.63653617, -5.57117321, -6.52902458, -6.42151299,\n",
       "       -6.44496589, -6.08527825, -6.24557798, -5.91522558, -5.64741426])"
      ]
     },
     "execution_count": 181,
     "metadata": {},
     "output_type": "execute_result"
    }
   ],
   "source": [
    "X_T_P = P.dot(df.values.T)\n",
    "X_T_P"
   ]
  },
  {
   "cell_type": "code",
   "execution_count": 182,
   "metadata": {},
   "outputs": [
    {
     "data": {
      "text/plain": [
       "Text(0, 0.5, 'componet value')"
      ]
     },
     "execution_count": 182,
     "metadata": {},
     "output_type": "execute_result"
    },
    {
     "data": {
      "image/png": "[encoded data removed]",
      "text/plain": [
       "<Figure size 720x504 with 1 Axes>"
      ]
     },
     "metadata": {
      "needs_background": "light"
     },
     "output_type": "display_data"
    }
   ],
   "source": [
    "plt.figure(figsize=(10, 7))\n",
    "plt.plot(X_T_P, 'bo')\n",
    "plt.title('PCA of iris')\n",
    "plt.xlabel('sample data')\n",
    "plt.ylabel('componet value')"
   ]
  }
 ],
 "metadata": {
  "kernelspec": {
   "display_name": "Python 3",
   "language": "python",
   "name": "python3"
  },
  "language_info": {
   "codemirror_mode": {
    "name": "ipython",
    "version": 3
   },
   "file_extension": ".py",
   "mimetype": "text/x-python",
   "name": "python",
   "nbconvert_exporter": "python",
   "pygments_lexer": "ipython3",
   "version": "3.8.5"
  }
 },
 "nbformat": 4,
 "nbformat_minor": 4
}